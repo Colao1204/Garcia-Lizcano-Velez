{
  "nbformat": 4,
  "nbformat_minor": 0,
  "metadata": {
    "colab": {
      "provenance": []
    },
    "kernelspec": {
      "name": "python3",
      "display_name": "Python 3"
    },
    "language_info": {
      "name": "python"
    }
  },
  "cells": [
    {
      "cell_type": "code",
      "execution_count": null,
      "metadata": {
        "id": "Jp-lmFCHi8yH"
      },
      "outputs": [],
      "source": [
        "import numpy as np"
      ]
    },
    {
      "cell_type": "code",
      "source": [
        "tol = 1e-6\n",
        "\n",
        "tests = [\n",
        "    np.array([[2, 1],\n",
        "              [3, 4]]),\n",
        "    np.array([[3, 2],\n",
        "              [3, 4]]),\n",
        "    np.array([[1,1,2],\n",
        "              [2,1,1],\n",
        "              [1,1,3]]),\n",
        "    np.array([[1,1,2],\n",
        "              [2,1,3],\n",
        "              [1,1,1]]),\n",
        "    np.array([[2,1,2],\n",
        "              [1,1,3],\n",
        "              [1,1,1]]),\n",
        "    np.array([[1,1,1,2],\n",
        "              [2,1,1,1],\n",
        "              [3,2,1,2],\n",
        "              [2,1,1,4]]),\n",
        "    np.array([[1,2,1,2],\n",
        "              [2,1,1,1],\n",
        "              [3,2,1,2],\n",
        "              [2,1,1,4]])\n",
        "]"
      ],
      "metadata": {
        "id": "tSvVv_sxjCRm"
      },
      "execution_count": null,
      "outputs": []
    },
    {
      "cell_type": "code",
      "source": [
        "def metodoPotencia(A, x0, tol):\n",
        "    x = x0\n",
        "    count = 0\n",
        "    while True:\n",
        "      count += 1\n",
        "      xk = np.dot(A, x)\n",
        "      ck = max(xk)\n",
        "      xk = xk / ck\n",
        "\n",
        "      if np.linalg.norm(xk - x) < tol:\n",
        "        break\n",
        "      x = xk\n",
        "\n",
        "    return ck, xk, count"
      ],
      "metadata": {
        "id": "3OV1KCoMjS3B"
      },
      "execution_count": null,
      "outputs": []
    },
    {
      "cell_type": "code",
      "source": [
        "for index, test in enumerate(tests):\n",
        "    val, vec, it = metodoPotencia(test, np.ones(test.shape[0]), tol)\n",
        "    print(\"Matriz\", chr(65 + index))\n",
        "    print(\"\\tValor propio:\", np.around(val, decimals=7))\n",
        "    print(\"\\tVector propio:\", np.around(vec, decimals=4))\n",
        "    print(\"\\tIteraciones:\", it)"
      ],
      "metadata": {
        "colab": {
          "base_uri": "https://localhost:8080/"
        },
        "id": "4kbersLYj6xS",
        "outputId": "f6442158-fee2-4b7e-8b4a-3fb82827dc56"
      },
      "execution_count": null,
      "outputs": [
        {
          "output_type": "stream",
          "name": "stdout",
          "text": [
            "Matriz A\n",
            "\tValor propio: 5.0000034\n",
            "\tVector propio: [0.3333 1.    ]\n",
            "\tIteraciones: 9\n",
            "Matriz B\n",
            "\tValor propio: 6.000003\n",
            "\tVector propio: [0.6667 1.    ]\n",
            "\tIteraciones: 8\n",
            "Matriz C\n",
            "\tValor propio: 4.507019\n",
            "\tVector propio: [0.7781 0.7289 1.    ]\n",
            "\tIteraciones: 9\n",
            "Matriz D\n",
            "\tValor propio: 4.0489183\n",
            "\tVector propio: [0.692 1.    0.555]\n",
            "\tIteraciones: 9\n",
            "Matriz E\n",
            "\tValor propio: 4.1248858\n",
            "\tVector propio: [1.     0.9054 0.6097]\n",
            "\tIteraciones: 9\n",
            "Matriz F\n",
            "\tValor propio: 6.6345362\n",
            "\tVector propio: [0.607  0.5478 0.8726 1.    ]\n",
            "\tIteraciones: 10\n",
            "Matriz G\n",
            "\tValor propio: 6.8272634\n",
            "\tVector propio: [0.6883 0.5606 0.89   1.    ]\n",
            "\tIteraciones: 11\n"
          ]
        }
      ]
    }
  ]
}